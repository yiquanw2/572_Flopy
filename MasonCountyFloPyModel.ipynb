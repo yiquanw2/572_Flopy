{
  "nbformat": 4,
  "nbformat_minor": 0,
  "metadata": {
    "colab": {
      "name": "MasonCountyFloPyModel.ipynb",
      "provenance": [],
      "collapsed_sections": [],
      "include_colab_link": true
    },
    "kernelspec": {
      "name": "python3",
      "display_name": "Python 3"
    },
    "language_info": {
      "codemirror_mode": {
        "name": "ipython",
        "version": 3
      },
      "file_extension": ".py",
      "mimetype": "text/x-python",
      "name": "python",
      "nbconvert_exporter": "python",
      "pygments_lexer": "ipython3",
      "version": "3.7.6"
    }
  },
  "cells": [
    {
      "cell_type": "markdown",
      "metadata": {
        "id": "view-in-github",
        "colab_type": "text"
      },
      "source": [
        "<a href=\"https://colab.research.google.com/github/yiquanw2/572_Flopy/blob/master/MasonCountyFloPyModel.ipynb\" target=\"_parent\"><img src=\"https://colab.research.google.com/assets/colab-badge.svg\" alt=\"Open In Colab\"/></a>"
      ]
    },
    {
      "cell_type": "markdown",
      "metadata": {
        "id": "G4KWGGv5A7F2",
        "colab_type": "text"
      },
      "source": [
        "# <center>FloPy Regional Model Development</center>\n",
        "The following script develops a regional MODFLOW model using FloPy and associated packages. The study domain is the Mahomet Aquifer in Illinois, particulary in the heavily irrigated region of Mason County. \n",
        "\n",
        "Note that you may not always have to compile MODFLOW, and you only have initialize code (#1) and import large files (#2) the first time you run the code in a session. Most of the time, you will only have to run #3 onward. "
      ]
    },
    {
      "cell_type": "markdown",
      "metadata": {
        "id": "MZeCuFvptP_f",
        "colab_type": "text"
      },
      "source": [
        "# 0. Compile MODFLOW (DO NOT RUN UNLESS NECESSARY)\n"
      ]
    },
    {
      "cell_type": "markdown",
      "metadata": {
        "id": "I0WdSEtOElwW",
        "colab_type": "text"
      },
      "source": [
        "When using Google CoLab, you cannot simply use an existing MODFLOW executable, but have to compile a a new one for use in this environment. I have already compiled MODFLOW, but am currently unsure if it will work for everybody. Please do not run the following code unless you get an error that the MODFLOW file was not found (will occur when running the model). "
      ]
    },
    {
      "cell_type": "code",
      "metadata": {
        "id": "Imxy2VTEuFWa",
        "colab_type": "code",
        "colab": {
          "base_uri": "https://localhost:8080/",
          "height": 199
        },
        "outputId": "50a42e85-c510-417d-d063-ef163ae93872"
      },
      "source": [
        "# !pip install https://github.com/modflowpy/pymake/zipball/master # install of the pymake package to compile MODFLOW"
      ],
      "execution_count": 1,
      "outputs": [
        {
          "output_type": "stream",
          "text": [
            "Collecting https://github.com/modflowpy/pymake/zipball/master\n",
            "\u001b[?25l  Downloading https://github.com/modflowpy/pymake/zipball/master\n",
            "\u001b[K     - 133kB 277kB/s\n",
            "\u001b[?25hBuilding wheels for collected packages: pymake\n",
            "  Building wheel for pymake (setup.py) ... \u001b[?25l\u001b[?25hdone\n",
            "  Created wheel for pymake: filename=pymake-1.1.0-cp36-none-any.whl size=38199 sha256=6f86afcca40a59aa52a94547a92b1cda0165abb4de10cbf6509829f91c146770\n",
            "  Stored in directory: /tmp/pip-ephem-wheel-cache-tbjcufp8/wheels/4e/91/61/e7ad711088661efc2055f76212317884c2ac12bae66f318fdc\n",
            "Successfully built pymake\n",
            "Installing collected packages: pymake\n",
            "Successfully installed pymake-1.1.0\n"
          ],
          "name": "stdout"
        }
      ]
    },
    {
      "cell_type": "code",
      "metadata": {
        "colab_type": "code",
        "id": "GRcmZ0Oudvp1",
        "colab": {
          "base_uri": "https://localhost:8080/",
          "height": 1000
        },
        "outputId": "eae73e05-0771-4d25-f784-6f6926834d72"
      },
      "source": [
        "# # Code to complile the MODFLOW executable\n",
        "\n",
        "# import pymake\n",
        "\n",
        "# def make_mf2005():\n",
        "#     pymake.build_apps('mf2005')\n",
        "\n",
        "\n",
        "# if __name__ == \"__main__\":\n",
        "#     make_mf2005()\n"
      ],
      "execution_count": 2,
      "outputs": [
        {
          "output_type": "stream",
          "text": [
            "mf2005 will be built for the \"linux\" operating system\n",
            "\n",
            "mf2005 will be placed in the directory:\n",
            "    \".\"\n",
            "\n",
            "mf2005 will be built using \"single\" precision floats.\n",
            "\n",
            "mf2005 will be built as a \"release\" application.\n",
            "\n",
            "mf2005 fortran code will be built with \"gfortran\".\n",
            "mf2005 c/c++ code will be built with \"gcc\".\n",
            "\n",
            "mf2005 will use the following predefined syslibs:\n",
            "    -lc\n",
            "\n",
            "mf2005 will be built for \"intel64\" architecture.\n",
            "\n",
            "downloading file:         True\n",
            "verified download:        True\n",
            "download timeout:         30 sec.\n",
            "cleaning extracted files: True\n",
            "\n",
            "extra files are not being read\n",
            "\n",
            "Attempting to download the file:\n",
            "    https://water.usgs.gov/water-resources/software/MODFLOW-2005/MF2005.1_12u.zip\n",
            " download attempt: 1\n",
            "   file size: 6,585,179 bytes\n",
            "     downloaded   204,800 bytes of 6,585,179 bytes (   3.1100%)\n",
            "     downloaded   409,600 bytes of 6,585,179 bytes (   6.2200%)\n",
            "     downloaded   614,400 bytes of 6,585,179 bytes (   9.3300%)\n",
            "     downloaded   819,200 bytes of 6,585,179 bytes (  12.4401%)\n",
            "     downloaded 1,024,000 bytes of 6,585,179 bytes (  15.5501%)\n",
            "     downloaded 1,228,800 bytes of 6,585,179 bytes (  18.6601%)\n",
            "     downloaded 1,433,600 bytes of 6,585,179 bytes (  21.7701%)\n",
            "     downloaded 1,638,400 bytes of 6,585,179 bytes (  24.8801%)\n",
            "     downloaded 1,843,200 bytes of 6,585,179 bytes (  27.9901%)\n",
            "     downloaded 2,048,000 bytes of 6,585,179 bytes (  31.1001%)\n",
            "     downloaded 2,252,800 bytes of 6,585,179 bytes (  34.2102%)\n",
            "     downloaded 2,457,600 bytes of 6,585,179 bytes (  37.3202%)\n",
            "     downloaded 2,662,400 bytes of 6,585,179 bytes (  40.4302%)\n",
            "     downloaded 2,867,200 bytes of 6,585,179 bytes (  43.5402%)\n",
            "     downloaded 3,072,000 bytes of 6,585,179 bytes (  46.6502%)\n",
            "     downloaded 3,276,800 bytes of 6,585,179 bytes (  49.7602%)\n",
            "     downloaded 3,481,600 bytes of 6,585,179 bytes (  52.8702%)\n",
            "     downloaded 3,686,400 bytes of 6,585,179 bytes (  55.9803%)\n",
            "     downloaded 3,891,200 bytes of 6,585,179 bytes (  59.0903%)\n",
            "     downloaded 4,096,000 bytes of 6,585,179 bytes (  62.2003%)\n",
            "     downloaded 4,300,800 bytes of 6,585,179 bytes (  65.3103%)\n",
            "     downloaded 4,505,600 bytes of 6,585,179 bytes (  68.4203%)\n",
            "     downloaded 4,710,400 bytes of 6,585,179 bytes (  71.5303%)\n",
            "     downloaded 4,915,200 bytes of 6,585,179 bytes (  74.6403%)\n",
            "     downloaded 5,120,000 bytes of 6,585,179 bytes (  77.7504%)\n",
            "     downloaded 5,324,800 bytes of 6,585,179 bytes (  80.8604%)\n",
            "     downloaded 5,529,600 bytes of 6,585,179 bytes (  83.9704%)\n",
            "     downloaded 5,734,400 bytes of 6,585,179 bytes (  87.0804%)\n",
            "     downloaded 5,939,200 bytes of 6,585,179 bytes (  90.1904%)\n",
            "     downloaded 6,144,000 bytes of 6,585,179 bytes (  93.3004%)\n",
            "     downloaded 6,348,800 bytes of 6,585,179 bytes (  96.4104%)\n",
            "     downloaded 6,553,600 bytes of 6,585,179 bytes (  99.5205%)\n",
            "     downloaded 6,585,179 bytes of 6,585,179 bytes ( 100.0000%)\n",
            "Extracting the zipfile...\n",
            "Deleting the zipfile...\n",
            "Done downloading and extracting...\n",
            "\n",
            "replacing select source files for mf2005\n",
            "\n",
            "compiling...mf2005\n",
            "\n",
            "source files are in:\n",
            "    temp/MF2005.1_12u/src\n",
            "\n",
            "executable name to be created:\n",
            "    /content/mf2005\n",
            "\n",
            "replacing...\"./src_temp/openspec.inc\"\n",
            "gfortran --help -v\n",
            "  -ffpe-summary flag available: True\n",
            "gfortran --help -v\n",
            "  -ffpe-trap flag available: True\n",
            "\n",
            "Compiling object files for mf2005...\n",
            "gfortran -O2 -ffpe-summary=overflow -ffpe-trap=overflow,zero,invalid -fbacktrace -I./src_temp -c ./src_temp/gwfuzfmodule.f -o ./obj_temp/gwfuzfmodule.o -I./obj_temp -J./mod_temp\n",
            "gfortran -O2 -ffpe-summary=overflow -ffpe-trap=overflow,zero,invalid -fbacktrace -I./src_temp -c ./src_temp/gwflakmodule.f -o ./obj_temp/gwflakmodule.o -I./obj_temp -J./mod_temp\n",
            "gfortran -O2 -ffpe-summary=overflow -ffpe-trap=overflow,zero,invalid -fbacktrace -I./src_temp -c ./src_temp/mhc7.f -o ./obj_temp/mhc7.o -I./obj_temp -J./mod_temp\n",
            "gfortran -O2 -ffpe-summary=overflow -ffpe-trap=overflow,zero,invalid -fbacktrace -I./src_temp -c ./src_temp/pcgn_solve2.f90 -o ./obj_temp/pcgn_solve2.o -I./obj_temp -J./mod_temp\n",
            "gfortran -O2 -ffpe-summary=overflow -ffpe-trap=overflow,zero,invalid -fbacktrace -I./src_temp -c ./src_temp/gwf2bas7.f -o ./obj_temp/gwf2bas7.o -I./obj_temp -J./mod_temp\n",
            "gfortran -O2 -ffpe-summary=overflow -ffpe-trap=overflow,zero,invalid -fbacktrace -I./src_temp -c ./src_temp/gwf2bcf7.f -o ./obj_temp/gwf2bcf7.o -I./obj_temp -J./mod_temp\n",
            "gfortran -O2 -ffpe-summary=overflow -ffpe-trap=overflow,zero,invalid -fbacktrace -I./src_temp -c ./src_temp/gwf2swr7util.f -o ./obj_temp/gwf2swr7util.o -I./obj_temp -J./mod_temp\n",
            "gfortran -O2 -ffpe-summary=overflow -ffpe-trap=overflow,zero,invalid -fbacktrace -I./src_temp -c ./src_temp/gwf2chd7.f -o ./obj_temp/gwf2chd7.o -I./obj_temp -J./mod_temp\n",
            "gfortran -O2 -ffpe-summary=overflow -ffpe-trap=overflow,zero,invalid -fbacktrace -I./src_temp -c ./src_temp/gwf2drt7.f -o ./obj_temp/gwf2drt7.o -I./obj_temp -J./mod_temp\n",
            "gfortran -O2 -ffpe-summary=overflow -ffpe-trap=overflow,zero,invalid -fbacktrace -I./src_temp -c ./src_temp/gwf2ets7.f -o ./obj_temp/gwf2ets7.o -I./obj_temp -J./mod_temp\n",
            "gfortran -O2 -ffpe-summary=overflow -ffpe-trap=overflow,zero,invalid -fbacktrace -I./src_temp -c ./src_temp/gwf2hfb7.f -o ./obj_temp/gwf2hfb7.o -I./obj_temp -J./mod_temp\n",
            "gfortran -O2 -ffpe-summary=overflow -ffpe-trap=overflow,zero,invalid -fbacktrace -I./src_temp -c ./src_temp/gwf2ghb7.f -o ./obj_temp/gwf2ghb7.o -I./obj_temp -J./mod_temp\n",
            "gfortran -O2 -ffpe-summary=overflow -ffpe-trap=overflow,zero,invalid -fbacktrace -I./src_temp -c ./src_temp/sip7.f -o ./obj_temp/sip7.o -I./obj_temp -J./mod_temp\n",
            "gfortran -O2 -ffpe-summary=overflow -ffpe-trap=overflow,zero,invalid -fbacktrace -I./src_temp -c ./src_temp/gwf2res7.f -o ./obj_temp/gwf2res7.o -I./obj_temp -J./mod_temp\n",
            "gfortran -O2 -ffpe-summary=overflow -ffpe-trap=overflow,zero,invalid -fbacktrace -I./src_temp -c ./src_temp/utl7.f -o ./obj_temp/utl7.o -I./obj_temp -J./mod_temp\n",
            "gfortran -O2 -ffpe-summary=overflow -ffpe-trap=overflow,zero,invalid -fbacktrace -I./src_temp -c ./src_temp/gwf2drn7.f -o ./obj_temp/gwf2drn7.o -I./obj_temp -J./mod_temp\n",
            "gfortran -O2 -ffpe-summary=overflow -ffpe-trap=overflow,zero,invalid -fbacktrace -I./src_temp -c ./src_temp/gwf2huf7.f -o ./obj_temp/gwf2huf7.o -I./obj_temp -J./mod_temp\n",
            "gfortran -O2 -ffpe-summary=overflow -ffpe-trap=overflow,zero,invalid -fbacktrace -I./src_temp -c ./src_temp/gwf2riv7.f -o ./obj_temp/gwf2riv7.o -I./obj_temp -J./mod_temp\n",
            "gfortran -O2 -ffpe-summary=overflow -ffpe-trap=overflow,zero,invalid -fbacktrace -I./src_temp -c ./src_temp/gwf2ibs7.f -o ./obj_temp/gwf2ibs7.o -I./obj_temp -J./mod_temp\n",
            "gfortran -O2 -ffpe-summary=overflow -ffpe-trap=overflow,zero,invalid -fbacktrace -I./src_temp -c ./src_temp/gwf2str7.f -o ./obj_temp/gwf2str7.o -I./obj_temp -J./mod_temp\n",
            "gfortran -O2 -ffpe-summary=overflow -ffpe-trap=overflow,zero,invalid -fbacktrace -I./src_temp -c ./src_temp/gmg7_c_interface.f90 -o ./obj_temp/gmg7_c_interface.o -I./obj_temp -J./mod_temp\n",
            "gfortran -O2 -ffpe-summary=overflow -ffpe-trap=overflow,zero,invalid -fbacktrace -I./src_temp -c ./src_temp/parutl7.f -o ./obj_temp/parutl7.o -I./obj_temp -J./mod_temp\n",
            "gfortran -O2 -ffpe-summary=overflow -ffpe-trap=overflow,zero,invalid -fbacktrace -I./src_temp -c ./src_temp/gwfsfrmodule.f -o ./obj_temp/gwfsfrmodule.o -I./obj_temp -J./mod_temp\n",
            "gfortran -O2 -ffpe-summary=overflow -ffpe-trap=overflow,zero,invalid -fbacktrace -I./src_temp -c ./src_temp/pcg7.f -o ./obj_temp/pcg7.o -I./obj_temp -J./mod_temp\n",
            "gfortran -O2 -ffpe-summary=overflow -ffpe-trap=overflow,zero,invalid -fbacktrace -I./src_temp -c ./src_temp/gwf2fhb7.f -o ./obj_temp/gwf2fhb7.o -I./obj_temp -J./mod_temp\n",
            "gfortran -O2 -ffpe-summary=overflow -ffpe-trap=overflow,zero,invalid -fbacktrace -I./src_temp -c ./src_temp/gwf2evt7.f -o ./obj_temp/gwf2evt7.o -I./obj_temp -J./mod_temp\n",
            "gfortran -O2 -ffpe-summary=overflow -ffpe-trap=overflow,zero,invalid -fbacktrace -I./src_temp -c ./src_temp/de47.f -o ./obj_temp/de47.o -I./obj_temp -J./mod_temp\n",
            "gfortran -O2 -ffpe-summary=overflow -ffpe-trap=overflow,zero,invalid -fbacktrace -I./src_temp -c ./src_temp/gwf2lpf7.f -o ./obj_temp/gwf2lpf7.o -I./obj_temp -J./mod_temp\n",
            "gfortran -O2 -ffpe-summary=overflow -ffpe-trap=overflow,zero,invalid -fbacktrace -I./src_temp -c ./src_temp/hufutl7.f -o ./obj_temp/hufutl7.o -I./obj_temp -J./mod_temp\n",
            "gfortran -O2 -ffpe-summary=overflow -ffpe-trap=overflow,zero,invalid -fbacktrace -I./src_temp -c ./src_temp/obs2bas7.f -o ./obj_temp/obs2bas7.o -I./obj_temp -J./mod_temp\n",
            "gfortran -O2 -ffpe-summary=overflow -ffpe-trap=overflow,zero,invalid -fbacktrace -I./src_temp -c ./src_temp/gmg7.f -o ./obj_temp/gmg7.o -I./obj_temp -J./mod_temp\n",
            "gfortran -O2 -ffpe-summary=overflow -ffpe-trap=overflow,zero,invalid -fbacktrace -I./src_temp -c ./src_temp/obs2drn7.f -o ./obj_temp/obs2drn7.o -I./obj_temp -J./mod_temp\n",
            "gfortran -O2 -ffpe-summary=overflow -ffpe-trap=overflow,zero,invalid -fbacktrace -I./src_temp -c ./src_temp/gwf2lak7.f -o ./obj_temp/gwf2lak7.o -I./obj_temp -J./mod_temp\n",
            "gfortran -O2 -ffpe-summary=overflow -ffpe-trap=overflow,zero,invalid -fbacktrace -I./src_temp -c ./src_temp/gwf2gag7.f -o ./obj_temp/gwf2gag7.o -I./obj_temp -J./mod_temp\n",
            "gfortran -O2 -ffpe-summary=overflow -ffpe-trap=overflow,zero,invalid -fbacktrace -I./src_temp -c ./src_temp/obs2ghb7.f -o ./obj_temp/obs2ghb7.o -I./obj_temp -J./mod_temp\n",
            "gfortran -O2 -ffpe-summary=overflow -ffpe-trap=overflow,zero,invalid -fbacktrace -I./src_temp -c ./src_temp/pcgn2.f90 -o ./obj_temp/pcgn2.o -I./obj_temp -J./mod_temp\n",
            "gfortran -O2 -ffpe-summary=overflow -ffpe-trap=overflow,zero,invalid -fbacktrace -I./src_temp -c ./src_temp/obs2str7.f -o ./obj_temp/obs2str7.o -I./obj_temp -J./mod_temp\n",
            "gfortran -O2 -ffpe-summary=overflow -ffpe-trap=overflow,zero,invalid -fbacktrace -I./src_temp -c ./src_temp/gwf2wel7.f -o ./obj_temp/gwf2wel7.o -I./obj_temp -J./mod_temp\n",
            "gfortran -O2 -ffpe-summary=overflow -ffpe-trap=overflow,zero,invalid -fbacktrace -I./src_temp -c ./src_temp/gwf2swt7.f -o ./obj_temp/gwf2swt7.o -I./obj_temp -J./mod_temp\n",
            "gfortran -O2 -ffpe-summary=overflow -ffpe-trap=overflow,zero,invalid -fbacktrace -I./src_temp -c ./src_temp/gwf2rch7.f -o ./obj_temp/gwf2rch7.o -I./obj_temp -J./mod_temp\n",
            "gfortran -O2 -ffpe-summary=overflow -ffpe-trap=overflow,zero,invalid -fbacktrace -I./src_temp -c ./src_temp/gwf2sub7.f -o ./obj_temp/gwf2sub7.o -I./obj_temp -J./mod_temp\n",
            "gfortran -O2 -ffpe-summary=overflow -ffpe-trap=overflow,zero,invalid -fbacktrace -I./src_temp -c ./src_temp/gwf2sfr7.f -o ./obj_temp/gwf2sfr7.o -I./obj_temp -J./mod_temp\n",
            "gfortran -O2 -ffpe-summary=overflow -ffpe-trap=overflow,zero,invalid -fbacktrace -I./src_temp -c ./src_temp/gwf2uzf1.f -o ./obj_temp/gwf2uzf1.o -I./obj_temp -J./mod_temp\n",
            "gfortran -O2 -ffpe-summary=overflow -ffpe-trap=overflow,zero,invalid -fbacktrace -I./src_temp -c ./src_temp/obs2riv7.f -o ./obj_temp/obs2riv7.o -I./obj_temp -J./mod_temp\n",
            "gfortran -O2 -ffpe-summary=overflow -ffpe-trap=overflow,zero,invalid -fbacktrace -I./src_temp -c ./src_temp/gwf2swr7.f -o ./obj_temp/gwf2swr7.o -I./obj_temp -J./mod_temp\n",
            "gfortran -O2 -ffpe-summary=overflow -ffpe-trap=overflow,zero,invalid -fbacktrace -I./src_temp -c ./src_temp/gwf2swi27.f -o ./obj_temp/gwf2swi27.o -I./obj_temp -J./mod_temp\n",
            "gfortran -O2 -ffpe-summary=overflow -ffpe-trap=overflow,zero,invalid -fbacktrace -I./src_temp -c ./src_temp/gwf2mnw27.f -o ./obj_temp/gwf2mnw27.o -I./obj_temp -J./mod_temp\n",
            "gfortran -O2 -ffpe-summary=overflow -ffpe-trap=overflow,zero,invalid -fbacktrace -I./src_temp -c ./src_temp/gwf2mnw2i7.f -o ./obj_temp/gwf2mnw2i7.o -I./obj_temp -J./mod_temp\n",
            "gfortran -O2 -ffpe-summary=overflow -ffpe-trap=overflow,zero,invalid -fbacktrace -I./src_temp -c ./src_temp/gwf2mnw17.f -o ./obj_temp/gwf2mnw17.o -I./obj_temp -J./mod_temp\n",
            "gfortran -O2 -ffpe-summary=overflow -ffpe-trap=overflow,zero,invalid -fbacktrace -I./src_temp -c ./src_temp/obs2chd7.f -o ./obj_temp/obs2chd7.o -I./obj_temp -J./mod_temp\n",
            "gfortran -O2 -ffpe-summary=overflow -ffpe-trap=overflow,zero,invalid -fbacktrace -I./src_temp -c ./src_temp/mf2005.f -o ./obj_temp/mf2005.o -I./obj_temp -J./mod_temp\n",
            "gfortran -O2 -ffpe-summary=overflow -ffpe-trap=overflow,zero,invalid -fbacktrace -I./src_temp -c ./src_temp/gwf2hydmod7.f -o ./obj_temp/gwf2hydmod7.o -I./obj_temp -J./mod_temp\n",
            "gfortran -O2 -ffpe-summary=overflow -ffpe-trap=overflow,zero,invalid -fbacktrace -I./src_temp -c ./src_temp/lmt8.f -o ./obj_temp/lmt8.o -I./obj_temp -J./mod_temp\n",
            "gcc -O2 -I./src_temp -c ./src_temp/r_vector.c -o ./obj_temp/r_vector.o\n",
            "gcc -O2 -I./src_temp -c ./src_temp/solvers.c -o ./obj_temp/solvers.o\n",
            "gcc -O2 -I./src_temp -c ./src_temp/mf2kgmg.c -o ./obj_temp/mf2kgmg.o\n",
            "gcc -O2 -I./src_temp -c ./src_temp/ccfd.c -o ./obj_temp/ccfd.o\n",
            "\n",
            "Linking object files to make mf2005...\n",
            "gfortran -O2 -ffpe-summary=overflow -ffpe-trap=overflow,zero,invalid -fbacktrace -o /content/mf2005 ./obj_temp/gwfuzfmodule.o ./obj_temp/gwflakmodule.o ./obj_temp/mhc7.o ./obj_temp/pcgn_solve2.o ./obj_temp/gwf2bas7.o ./obj_temp/gwf2bcf7.o ./obj_temp/gwf2swr7util.o ./obj_temp/gwf2chd7.o ./obj_temp/gwf2drt7.o ./obj_temp/gwf2ets7.o ./obj_temp/gwf2hfb7.o ./obj_temp/gwf2ghb7.o ./obj_temp/sip7.o ./obj_temp/gwf2res7.o ./obj_temp/utl7.o ./obj_temp/gwf2drn7.o ./obj_temp/gwf2huf7.o ./obj_temp/gwf2riv7.o ./obj_temp/gwf2ibs7.o ./obj_temp/gwf2str7.o ./obj_temp/gmg7_c_interface.o ./obj_temp/parutl7.o ./obj_temp/gwfsfrmodule.o ./obj_temp/pcg7.o ./obj_temp/gwf2fhb7.o ./obj_temp/gwf2evt7.o ./obj_temp/de47.o ./obj_temp/gwf2lpf7.o ./obj_temp/hufutl7.o ./obj_temp/obs2bas7.o ./obj_temp/gmg7.o ./obj_temp/obs2drn7.o ./obj_temp/gwf2lak7.o ./obj_temp/gwf2gag7.o ./obj_temp/obs2ghb7.o ./obj_temp/pcgn2.o ./obj_temp/obs2str7.o ./obj_temp/gwf2wel7.o ./obj_temp/gwf2swt7.o ./obj_temp/gwf2rch7.o ./obj_temp/gwf2sub7.o ./obj_temp/gwf2sfr7.o ./obj_temp/gwf2uzf1.o ./obj_temp/obs2riv7.o ./obj_temp/gwf2swr7.o ./obj_temp/gwf2swi27.o ./obj_temp/gwf2mnw27.o ./obj_temp/gwf2mnw2i7.o ./obj_temp/gwf2mnw17.o ./obj_temp/obs2chd7.o ./obj_temp/mf2005.o ./obj_temp/gwf2hydmod7.o ./obj_temp/lmt8.o ./obj_temp/r_vector.o ./obj_temp/solvers.o ./obj_temp/mf2kgmg.o ./obj_temp/ccfd.o -lc\n",
            "\n",
            "Cleaning up temporary source, object, and module files...\n",
            "deleting /content/temp\n",
            "    removal attempt  1 of 10\n",
            "\n",
            "\n",
            "elapsed download and compile time (hh:mm:ss.ms): 0:01:03.764233\n",
            "\n",
            "elapsed time (hh:mm:ss.ms): 0:01:03.764323\n",
            "\n"
          ],
          "name": "stdout"
        }
      ]
    },
    {
      "cell_type": "markdown",
      "metadata": {
        "id": "8Wf-e4N6BUJo",
        "colab_type": "text"
      },
      "source": [
        "# 1 Initializing the code\n"
      ]
    },
    {
      "cell_type": "markdown",
      "metadata": {
        "id": "N3dybMuFEr1q",
        "colab_type": "text"
      },
      "source": [
        "These few code blocks only have to be run at the beginning of the script or if a runtime connection is lost. See details for each below. "
      ]
    },
    {
      "cell_type": "markdown",
      "metadata": {
        "id": "AiQlOJosBqXy",
        "colab_type": "text"
      },
      "source": [
        "## 1A. Install needed packages\n",
        "There are three packages that must be installed in the CoLab environment to run this script. These include \n",
        "\n",
        "\"pyproj\", which allows for the conversion from WGS84 coordinates (as obtained from Google Earth), which are in lat/long decimal degrees, to Illimap coordinates, a specialized projection using Lambert Conformal Conic that is optimized for developing a model grid in the state of Illinois. \n",
        "\n",
        "\"flopy\" creates modflow executables, runs the model, and allows for manipulation of results.\n",
        "\n",
        "\"rasterio\" allows for the reading of raster files, and is closely tied to the development of \"flopy\" input files\n"
      ]
    },
    {
      "cell_type": "code",
      "metadata": {
        "colab_type": "code",
        "id": "z0rwRhzkGuf3",
        "colab": {
          "base_uri": "https://localhost:8080/",
          "height": 617
        },
        "outputId": "499afd9f-0172-406e-e06a-d240c311ad3b"
      },
      "source": [
        "!pip install pyproj\n",
        "!pip install flopy\n",
        "!pip install rasterio"
      ],
      "execution_count": 3,
      "outputs": [
        {
          "output_type": "stream",
          "text": [
            "Collecting pyproj\n",
            "\u001b[?25l  Downloading https://files.pythonhosted.org/packages/ce/37/705ee471f71130d4ceee41bbcb06f3b52175cb89273cbb5755ed5e6374e0/pyproj-2.6.0-cp36-cp36m-manylinux2010_x86_64.whl (10.4MB)\n",
            "\u001b[K     |████████████████████████████████| 10.4MB 1.3MB/s \n",
            "\u001b[?25hInstalling collected packages: pyproj\n",
            "Successfully installed pyproj-2.6.0\n",
            "Collecting flopy\n",
            "\u001b[?25l  Downloading https://files.pythonhosted.org/packages/b7/6a/44206d49f3fa6edbb83e01ff4c58aa8dc188e0071de88cf14b36e19b3f2a/flopy-3.3.0.zip (1.0MB)\n",
            "\u001b[K     |████████████████████████████████| 1.1MB 1.4MB/s \n",
            "\u001b[?25hRequirement already satisfied: numpy>=1.9 in /usr/local/lib/python3.6/dist-packages (from flopy) (1.18.2)\n",
            "Building wheels for collected packages: flopy\n",
            "  Building wheel for flopy (setup.py) ... \u001b[?25l\u001b[?25hdone\n",
            "  Created wheel for flopy: filename=flopy-3.3.0-cp36-none-any.whl size=1038572 sha256=ae81410e67ad48e58f290921ddbd9a62dd3a3e9c95bdb3b95e60a71a772f8d67\n",
            "  Stored in directory: /root/.cache/pip/wheels/d6/af/5a/6d32a03da175b47d8f8cca93b4d363a864cf604164b85af785\n",
            "Successfully built flopy\n",
            "Installing collected packages: flopy\n",
            "Successfully installed flopy-3.3.0\n",
            "Collecting rasterio\n",
            "\u001b[?25l  Downloading https://files.pythonhosted.org/packages/c7/81/13321f88f582a00705c5f348724728e8999136e19d6e7c56f7e6ac9bb7f9/rasterio-1.1.3-cp36-cp36m-manylinux1_x86_64.whl (18.1MB)\n",
            "\u001b[K     |████████████████████████████████| 18.1MB 3.5MB/s \n",
            "\u001b[?25hCollecting click-plugins\n",
            "  Downloading https://files.pythonhosted.org/packages/e9/da/824b92d9942f4e472702488857914bdd50f73021efea15b4cad9aca8ecef/click_plugins-1.1.1-py2.py3-none-any.whl\n",
            "Requirement already satisfied: attrs in /usr/local/lib/python3.6/dist-packages (from rasterio) (19.3.0)\n",
            "Collecting snuggs>=1.4.1\n",
            "  Downloading https://files.pythonhosted.org/packages/cc/0e/d27d6e806d6c0d1a2cfdc5d1f088e42339a0a54a09c3343f7f81ec8947ea/snuggs-1.4.7-py3-none-any.whl\n",
            "Requirement already satisfied: numpy in /usr/local/lib/python3.6/dist-packages (from rasterio) (1.18.2)\n",
            "Collecting cligj>=0.5\n",
            "  Downloading https://files.pythonhosted.org/packages/e4/be/30a58b4b0733850280d01f8bd132591b4668ed5c7046761098d665ac2174/cligj-0.5.0-py3-none-any.whl\n",
            "Collecting affine\n",
            "  Downloading https://files.pythonhosted.org/packages/ac/a6/1a39a1ede71210e3ddaf623982b06ecfc5c5c03741ae659073159184cd3e/affine-2.3.0-py2.py3-none-any.whl\n",
            "Requirement already satisfied: click<8,>=4.0 in /usr/local/lib/python3.6/dist-packages (from rasterio) (7.1.1)\n",
            "Requirement already satisfied: pyparsing>=2.1.6 in /usr/local/lib/python3.6/dist-packages (from snuggs>=1.4.1->rasterio) (2.4.6)\n",
            "Installing collected packages: click-plugins, snuggs, cligj, affine, rasterio\n",
            "Successfully installed affine-2.3.0 click-plugins-1.1.1 cligj-0.5.0 rasterio-1.1.3 snuggs-1.4.7\n"
          ],
          "name": "stdout"
        }
      ]
    },
    {
      "cell_type": "markdown",
      "metadata": {
        "id": "g6tMviUVufyx",
        "colab_type": "text"
      },
      "source": [
        "## 1B. Import packages"
      ]
    },
    {
      "cell_type": "code",
      "metadata": {
        "colab_type": "code",
        "id": "It0QTEJCQCuV",
        "colab": {}
      },
      "source": [
        "import flopy # import flopy to develop, run, and analyze the model\n",
        "from flopy.utils import Raster # plot rasters from flopy\n",
        "import matplotlib as mp\n",
        "import pandas as pd\n",
        "import pyproj # change between WGS84 and Illimap coordinates\n",
        "import rasterio  # import rasters\n",
        "import matplotlib.pyplot as plt\n",
        "import numpy as np \n",
        "\n",
        "# the following code authorizes you to access files on Google Drive\n",
        "from google.colab import drive\n",
        "from pydrive.auth import GoogleAuth\n",
        "from pydrive.drive import GoogleDrive\n",
        "from google.colab import auth\n",
        "from oauth2client.client import GoogleCredentials\n"
      ],
      "execution_count": 0,
      "outputs": []
    },
    {
      "cell_type": "markdown",
      "metadata": {
        "id": "MRFZ3O-TurE2",
        "colab_type": "text"
      },
      "source": [
        "## 1C. Authenticate with Google\n",
        "This will allow you to access shared files on my Google Drive or your own. "
      ]
    },
    {
      "cell_type": "code",
      "metadata": {
        "colab_type": "code",
        "id": "hstJX5XhPT9r",
        "colab": {}
      },
      "source": [
        "auth.authenticate_user()\n",
        "gauth = GoogleAuth()\n",
        "gauth.credentials = GoogleCredentials.get_application_default()\n",
        "drive = GoogleDrive(gauth)"
      ],
      "execution_count": 0,
      "outputs": []
    },
    {
      "cell_type": "markdown",
      "metadata": {
        "id": "WoUf-0HKvAUm",
        "colab_type": "text"
      },
      "source": [
        "## 1D. Read the MODFLOW executable from Google Drive\n",
        "\n",
        "Here you are going to download the MODFLOW executable from Daniel's Google Drive. This will show up in your temporary working directory for use later in the code. <b>We need to confirm whether this will work in CoLab, or if you need to compile a new version of MODFLOW each time.</b>\n",
        "\n",
        "Note that this makes use of a key on your Google Drive sharable link for the file. This generally takes the form of: https://drive.google.com/file/d/**key**/view?usp=sharing, in this case, key = 1SwqsSCvyrnrCiopeEp52LBcZYNcgBT9V"
      ]
    },
    {
      "cell_type": "code",
      "metadata": {
        "colab_type": "code",
        "id": "NITzYdM_PgFM",
        "colab": {}
      },
      "source": [
        "downloaded = drive.CreateFile({'id':\"1SwqsSCvyrnrCiopeEp52LBcZYNcgBT9V\"}) # This is the key that is defined in the sharable link of a file on Google Drive\n",
        "downloaded.GetContentFile('mf2005') # get the content from Google Drive and name it (let's stick with mf2005 here)"
      ],
      "execution_count": 0,
      "outputs": []
    },
    {
      "cell_type": "markdown",
      "metadata": {
        "id": "r-owARmIvCoH",
        "colab_type": "text"
      },
      "source": [
        "Now we need to copy the executable into a location where we can later run it. Note that the \"!\" nomenclature is a shell command, beyond the scope of this course to learn that!"
      ]
    },
    {
      "cell_type": "code",
      "metadata": {
        "colab_type": "code",
        "id": "9WK5wZAzjdna",
        "colab": {}
      },
      "source": [
        "!cp mf2005 /usr/local/bin\n",
        "!chmod 755 /usr/local/bin/mf2005"
      ],
      "execution_count": 0,
      "outputs": []
    },
    {
      "cell_type": "markdown",
      "metadata": {
        "id": "oywHJyvfxXAq",
        "colab_type": "text"
      },
      "source": [
        "# 2 Import the big stuff\n"
      ]
    },
    {
      "cell_type": "markdown",
      "metadata": {
        "id": "bd7Rk7IlD3Ra",
        "colab_type": "text"
      },
      "source": [
        "We don't want to repeatedly import large files for fear of Google revoking our CoLab priveleges for a few hours. Once or twice isn't a big deal, but repeatedly might be an issue. Let Daniel know if this happens- there are ways to reduce our file sizes. \n",
        "\n",
        "For now, the \"big stuff\" includes a DEM of Illinois and the river excel file we worked with last time. "
      ]
    },
    {
      "cell_type": "markdown",
      "metadata": {
        "id": "7W_2AeFMx4Ai",
        "colab_type": "text"
      },
      "source": [
        "## 2A. Import the DEM"
      ]
    },
    {
      "cell_type": "code",
      "metadata": {
        "colab_type": "code",
        "id": "3ygMVkWFAcWv",
        "colab": {}
      },
      "source": [
        "# first import the .tif from Google Drive\n",
        "downloaded = drive.CreateFile({'id':\"1U35QAOqW0R9IPxrh6EtO6Cmm5VO4qezq\"})   \n",
        "downloaded.GetContentFile('dem_ill.tif')"
      ],
      "execution_count": 0,
      "outputs": []
    },
    {
      "cell_type": "markdown",
      "metadata": {
        "id": "oqxp3yqCydpY",
        "colab_type": "text"
      },
      "source": [
        "## 2B. Import the river file"
      ]
    },
    {
      "cell_type": "code",
      "metadata": {
        "id": "3VqaFoQiu7tP",
        "colab_type": "code",
        "colab": {}
      },
      "source": [
        "# first import the Excel file from Google Drive\n",
        "downloaded = drive.CreateFile({'id':\"1JsAiGG4RvcfYrQtfgXRW9ZVfAkQ1yRVu\"})\n",
        "downloaded.GetContentFile('rivers_625.csv')"
      ],
      "execution_count": 0,
      "outputs": []
    },
    {
      "cell_type": "markdown",
      "metadata": {
        "id": "OROiooZxzUuH",
        "colab_type": "text"
      },
      "source": [
        "# 3 Create MODFLOW  packages"
      ]
    },
    {
      "cell_type": "markdown",
      "metadata": {
        "id": "QoCKtXB3zoLH",
        "colab_type": "text"
      },
      "source": [
        "## 3A. Create the MODFLOW model object "
      ]
    },
    {
      "cell_type": "code",
      "metadata": {
        "colab_type": "code",
        "id": "-v2Uc_JWSsu1",
        "colab": {}
      },
      "source": [
        "# Create a MODFLOW model object and run with MODFLOW 2005.\n",
        "\n",
        "modelname = \"my_model\" # name the model\n",
        "m = flopy.modflow.Modflow(modelname, exe_name = 'mf2005') # create model object m"
      ],
      "execution_count": 0,
      "outputs": []
    },
    {
      "cell_type": "markdown",
      "metadata": {
        "id": "F-uLI2Rf0PIw",
        "colab_type": "text"
      },
      "source": [
        "## 3B. Discretization Package"
      ]
    },
    {
      "cell_type": "markdown",
      "metadata": {
        "id": "FnPkGXMG0qdv",
        "colab_type": "text"
      },
      "source": [
        "### 3Bi. Define the Model Domain"
      ]
    },
    {
      "cell_type": "code",
      "metadata": {
        "colab_type": "code",
        "id": "xKgi6FiwSwY0",
        "colab": {}
      },
      "source": [
        "#----------------------------------------------------------------------------\n",
        "# Define model domain in lat/long coordinates\n",
        "sw_lat =  40.045872 #southwest latitude\n",
        "sw_long = -90.397402 #southwest longitude\n",
        "ne_lat =  40.575944 #northeast latitude\n",
        "ne_long = -89.587339 #northeast longitude\n",
        "\n",
        "illimap = {'proj': 'lcc', # Lambert Conformal Conic\n",
        "     'ellps': 'clrk66',\n",
        "     'lon_0': -89.5,\n",
        "     'lat_0': 33,\n",
        "     'lat_1': 33,\n",
        "     'lat_2': 45,\n",
        "     'x_0': 2999994*0.3048,\n",
        "     'y_0': 0}\n",
        "\n",
        "prj = pyproj.Proj(illimap)\n",
        "\n",
        "wgs84 = pyproj.Proj(\"epsg:4326\")\n",
        "\n",
        "nex, ney = pyproj.transform(wgs84,illimap,ne_lat,ne_long)\n",
        "swx, swy = pyproj.transform(wgs84,illimap,sw_lat,sw_long)\n",
        "\n",
        "\n",
        "nex, ney = round(nex/0.3048,-4), round(ney/0.3048,-4)\n",
        "swx, swy = round(swx/0.3048,-4), round(swy/0.3048,-4)"
      ],
      "execution_count": 0,
      "outputs": []
    },
    {
      "cell_type": "markdown",
      "metadata": {
        "id": "CpselZ1G2hoC",
        "colab_type": "text"
      },
      "source": [
        "### 3Bii. Define other discretization variables (grid and stress periods)"
      ]
    },
    {
      "cell_type": "code",
      "metadata": {
        "colab_type": "code",
        "id": "JZPmYy-DkqGy",
        "colab": {}
      },
      "source": [
        "# Assign Discretization variables\n",
        "Lx = nex-swx # Width of the model domain\n",
        "Ly = ney-swy # Height of the model domain\n",
        "zbot = -50. # Model bottom elevation\n",
        "nlay = 1 # Number of model layers\n",
        "dx = 1000\n",
        "dy = 1000\n",
        "nrow = int(Ly/dy) # Number of rows\n",
        "ncol = int(Lx/dx) # Number of columns\n",
        "\n",
        "nper = 1 #specify number of stress periods\n",
        "steady = [True] #specify if stress period is transient or steady-state\n"
      ],
      "execution_count": 0,
      "outputs": []
    },
    {
      "cell_type": "markdown",
      "metadata": {
        "id": "GoUbGJMb0e2Q",
        "colab_type": "text"
      },
      "source": [
        "### 3Biii. Define the top and bottom elevation\n",
        "\n"
      ]
    },
    {
      "cell_type": "code",
      "metadata": {
        "id": "xCZvnOQm05ww",
        "colab_type": "code",
        "colab": {}
      },
      "source": [
        "# Now load the raster using FloPy's built in Raster toolbox\n",
        "illinoisdem = Raster.load(\"dem_ill.tif\")\n",
        "\n",
        "# Crop the dEM to the model domain\n",
        "illinoisdem.crop([(swx,swy),(swx,ney),(nex,ney),(nex,swy)])\n",
        "# Define centroid of the southwestern most cell\n",
        "startx = swx+dx/2 \n",
        "starty = swy+dx/2\n",
        "# Calculate the x and y coordinates for the centroid of each cell \n",
        "xc = np.arange(swx+dx/2,nex+dx/2,dx) \n",
        "yc = np.arange(swy+dy/2,ney+dy/2,dy)\n",
        "# Create a grid of the x coordinate of each centroid and the y coordinate\n",
        "xarr, yarr = np.meshgrid(xc,yc)\n",
        "# resample the topo raster to the grid of centroids of the model\n",
        "topgrid = illinoisdem.resample_to_grid(xarr,yarr,1,method='nearest') \n",
        "# We just built our top elevation upside down, let's flip it\n",
        "topgrid = np.flipud(3.28*topgrid) # elevations were in meters above mean sea level, we want feet."
      ],
      "execution_count": 0,
      "outputs": []
    },
    {
      "cell_type": "markdown",
      "metadata": {
        "id": "mNkGlXTw0Y8_",
        "colab_type": "text"
      },
      "source": [
        "### 3Biv. Append the discretization package to the model object"
      ]
    },
    {
      "cell_type": "code",
      "metadata": {
        "colab_type": "code",
        "id": "_MSCNyTkknUU",
        "colab": {}
      },
      "source": [
        "# length and time are feet (1) and days (4).\n",
        "# See https://water.usgs.gov/ogw/modflow/MODFLOW-2005-Guide/index.html?dis.htm \n",
        "dis = flopy.modflow.ModflowDis(model=m, nlay=nlay, nrow=nrow, ncol=ncol, \n",
        "                               delr=dx, delc=dy, top=topgrid, botm=zbot, \n",
        "                               itmuni = 4, lenuni = 1, \n",
        "                               nper=nper, steady=steady)"
      ],
      "execution_count": 0,
      "outputs": []
    },
    {
      "cell_type": "markdown",
      "metadata": {
        "id": "ohZcMcra23lN",
        "colab_type": "text"
      },
      "source": [
        "## 3C. Basic Package"
      ]
    },
    {
      "cell_type": "code",
      "metadata": {
        "colab_type": "code",
        "id": "US3C3_-XS0gk",
        "colab": {}
      },
      "source": [
        "\n",
        "# Create ibound as array of ints (1), indicating all cells are active\n",
        "ibound = np.ones((nlay, nrow, ncol), dtype=np.int32)\n",
        "\n",
        "# Create starting head array, must be floats.\n",
        "strt = 400*np.ones((nlay, nrow, ncol), dtype=np.float32) #set every cell to 5.0\n",
        "\n",
        "#Create flopy bas object\n",
        "bas = flopy.modflow.ModflowBas(m, ibound=ibound, strt=strt)\n"
      ],
      "execution_count": 0,
      "outputs": []
    },
    {
      "cell_type": "markdown",
      "metadata": {
        "id": "5PSnNO_x3RUj",
        "colab_type": "text"
      },
      "source": [
        "## 3D. LPF Package"
      ]
    },
    {
      "cell_type": "code",
      "metadata": {
        "colab_type": "code",
        "id": "sMP89XUkS4lL",
        "colab": {}
      },
      "source": [
        "'''Create the Layer Property Flow Package, which contains information about\n",
        "hydruaulic conductivity and other information about how to calculate flow'''\n",
        "\n",
        "hk = 250*np.ones((nlay,nrow,ncol), dtype=np.float32) #define horizontal hydraulic conductivity\n",
        "vk = np.ones((nlay,nrow,ncol), dtype=np.float32) #define vertical hydraulic conductivity\n",
        "\n",
        "#define layer type as convertible (1), must be an integer\n",
        "#for more information, see https://water.usgs.gov/ogw/modflow/MODFLOW-2005-Guide/index.html?dis.htm\n",
        "laytyp = np.ones((nlay,), dtype=np.int32)\n",
        "\n",
        "# create the LPF object\n",
        "lpf = flopy.modflow.ModflowLpf(model=m, hk=hk, vka=vk, laytyp=laytyp, ipakcb=1)\n"
      ],
      "execution_count": 0,
      "outputs": []
    },
    {
      "cell_type": "markdown",
      "metadata": {
        "id": "blNu8BSC3VgJ",
        "colab_type": "text"
      },
      "source": [
        "## 3E. Boundary Conditions"
      ]
    },
    {
      "cell_type": "markdown",
      "metadata": {
        "id": "P4Y1btf03ivQ",
        "colab_type": "text"
      },
      "source": [
        "### 3Ei. Recharge Package"
      ]
    },
    {
      "cell_type": "code",
      "metadata": {
        "colab_type": "code",
        "id": "gDZ98E8NS8UG",
        "colab": {}
      },
      "source": [
        "# assign recharge to the model\n",
        "rch = flopy.modflow.mfrch.ModflowRch(model=m,rech = 0.001) # recharge rate is uniform and in ft/day\n"
      ],
      "execution_count": 0,
      "outputs": []
    },
    {
      "cell_type": "markdown",
      "metadata": {
        "id": "-otcrtqA3ZTZ",
        "colab_type": "text"
      },
      "source": [
        "### 3Eii. River Package"
      ]
    },
    {
      "cell_type": "code",
      "metadata": {
        "colab_type": "code",
        "id": "pwTDkxudTGmP",
        "colab": {}
      },
      "source": [
        "# import stage, lambert x, lambert y\n",
        "dfriv = pd.read_csv('rivers_625.csv')\n",
        "\n",
        "# trim dataframe with river information to the model domain\n",
        "dfriv = dfriv.loc[dfriv['lamx']<nex]\n",
        "dfriv = dfriv.loc[dfriv['lamy']<ney]\n",
        "dfriv = dfriv.loc[dfriv['lamx']>swx]\n",
        "dfriv = dfriv.loc[dfriv['lamy']>swy]\n",
        "\n",
        "# assign all rivers to the upper layer\n",
        "dfriv['lay'] = 0\n",
        "# convert lamx to column and lamy to row\n",
        "dfriv['row'] = np.trunc((ney-dfriv['lamy'])/dy)\n",
        "dfriv['col'] = np.trunc((dfriv['lamx']-swx)/dx)\n",
        "# define the river stage\n",
        "dfriv['stage'] = dfriv['rvr_stg']\n",
        "#define the conductance\n",
        "dfriv['cond'] = 5000. # ft^2/d\n",
        "# define the river bottom\n",
        "dfriv['bot'] = dfriv['stage']-3\n",
        "# drop unneeded files\n",
        "dfriv = dfriv.drop(['STR_ORD_MI','STR_ORD_MA','SUM_LENGTH','rvr_stg','lamx','lamy'],axis=1)\n",
        "\n",
        "# put into a format that MODFLOW wants\n",
        "arriv = dfriv.values\n",
        "riverdata = {0: arriv}\n",
        "\n",
        "# create river package\n",
        "riv = flopy.modflow.mfriv.ModflowRiv(model=m, ipakcb=None,stress_period_data=riverdata)\n"
      ],
      "execution_count": 0,
      "outputs": []
    },
    {
      "cell_type": "markdown",
      "metadata": {
        "id": "GAVD2sGT4oRb",
        "colab_type": "text"
      },
      "source": [
        "## 3F. Define output control"
      ]
    },
    {
      "cell_type": "code",
      "metadata": {
        "colab_type": "code",
        "id": "NRhnNJU0TJhN",
        "colab": {}
      },
      "source": [
        "#create oc stress period data. \n",
        "spd = {(0, 0): ['print head', 'print budget', 'save head', 'save budget']}\n",
        "#create output control object\n",
        "oc = flopy.modflow.ModflowOc(model=m, stress_period_data=spd, compact=True)"
      ],
      "execution_count": 0,
      "outputs": []
    },
    {
      "cell_type": "markdown",
      "metadata": {
        "id": "VD9BUXun4si5",
        "colab_type": "text"
      },
      "source": [
        "## 3G. Solver"
      ]
    },
    {
      "cell_type": "code",
      "metadata": {
        "colab_type": "code",
        "id": "0tdHTKB-TMdU",
        "colab": {}
      },
      "source": [
        "# We will start by using the PCG solver with default settings\n",
        "pcg = flopy.modflow.ModflowPcg(model=m)"
      ],
      "execution_count": 0,
      "outputs": []
    },
    {
      "cell_type": "markdown",
      "metadata": {
        "id": "7yMH7xi9_CF9",
        "colab_type": "text"
      },
      "source": [
        "## 3H. Plot model inputs (boundary conditions, elevations)"
      ]
    },
    {
      "cell_type": "code",
      "metadata": {
        "colab_type": "code",
        "id": "s6ZbnrHqTVjd",
        "colab": {}
      },
      "source": [
        "'''Plot grid and boundary conditions'''\n",
        "#----------------------------------------------------------------------------\n",
        "plt.figure(figsize=(10,10)) #create 10 x 10 figure\n",
        "modelmap = flopy.plot.PlotMapView(model=m, layer=0)\n",
        "#grid = modelmap.plot_grid()\n",
        "ib = modelmap.plot_ibound()\n",
        "rvr = modelmap.plot_bc(ftype='RIV')\n",
        "#add labels and legend\n",
        "plt.xlabel('Lx (ft)',fontsize = 14)\n",
        "plt.ylabel('Ly (ft)',fontsize = 14)\n",
        "plt.title('Ibound', fontsize = 15, fontweight = 'bold')\n",
        "plt.legend(handles=[mp.patches.Patch(color='blue',label='Const. Head',ec='black'),\n",
        "                   mp.patches.Patch(color='white',label='Active Cell',ec='black'),\n",
        "                   mp.patches.Patch(color='black',label='Inactive Cell',ec='black'),\n",
        "                   mp.patches.Patch(color='green',label='River',ec='green')],\n",
        "                   bbox_to_anchor=(1.5,1.0))\n",
        "#----------------------------------------------------------------------------"
      ],
      "execution_count": 0,
      "outputs": []
    },
    {
      "cell_type": "code",
      "metadata": {
        "colab_type": "code",
        "id": "r27l4dJK-Ksv",
        "colab": {}
      },
      "source": [
        "'''Plot elevation'''\n",
        "#----------------------------------------------------------------------------\n",
        "plt.figure(figsize=(10,10)) #create 10 x 10 figure\n",
        "modelmap = flopy.plot.map.PlotMapView(model=m, layer=0) #use plotmapview to attach plot to model\n",
        "contour_levels = np.linspace(400,800,41)\n",
        "topelevations = modelmap.contour_array(topgrid, levels = contour_levels) #create head contours\n",
        "plt.clabel(topelevations, inline=True,fontsize=12,fmt='%1.0f')\n",
        "rvr = modelmap.plot_bc(ftype='RIV')\n",
        "\n",
        "#display parameters\n",
        "plt.xlabel('Lx (ft)',fontsize = 14)\n",
        "plt.ylabel('Ly (ft)',fontsize = 14)\n",
        "plt.title('Top Elevation (ft AMSL)', fontsize = 15, fontweight = 'bold')"
      ],
      "execution_count": 0,
      "outputs": []
    },
    {
      "cell_type": "markdown",
      "metadata": {
        "id": "x4QPNEge41Mh",
        "colab_type": "text"
      },
      "source": [
        "# 4 Write and run the MODFLOW model"
      ]
    },
    {
      "cell_type": "code",
      "metadata": {
        "colab_type": "code",
        "id": "DH-U_oaiWTl8",
        "colab": {}
      },
      "source": [
        "# Write the model input\n",
        "m.write_input()\n",
        "# Execute the model run\n",
        "success, mfoutput = m.run_model(pause=False, report=True)\n",
        "# Report back if the model did not successfully complete\n",
        "if not success:\n",
        "    raise Exception('MODFLOW did not terminate normally.')"
      ],
      "execution_count": 0,
      "outputs": []
    },
    {
      "cell_type": "markdown",
      "metadata": {
        "id": "bN2ivrtx_5yz",
        "colab_type": "text"
      },
      "source": [
        "# 5 Plot Output Data"
      ]
    },
    {
      "cell_type": "code",
      "metadata": {
        "colab_type": "code",
        "id": "a7mhYeBVhDn6",
        "colab": {}
      },
      "source": [
        "'''Extract binary data from head and flow files'''\n",
        "#----------------------------------------------------------------------------\n",
        "#extract binary data from head file as flopy head object\n",
        "headobj = flopy.utils.binaryfile.HeadFile(modelname+'.hds')\n",
        "#extract head data from head object\n",
        "head = headobj.get_data(totim=1.0)\n",
        "\n",
        "#extract binary data from budget file as flopy budget object\n",
        "budgobj = flopy.utils.binaryfile.CellBudgetFile(modelname+'.cbc')\n",
        "#extract flow data from budget object, define face over which flow is reported\n",
        "frf = budgobj.get_data(text='flow right face', totim=1.0)\n",
        "fff = budgobj.get_data(text='flow front face', totim=1.0)"
      ],
      "execution_count": 0,
      "outputs": []
    },
    {
      "cell_type": "code",
      "metadata": {
        "colab_type": "code",
        "id": "MZxuJhCzg_F8",
        "colab": {}
      },
      "source": [
        "'''Plot results'''\n",
        "#----------------------------------------------------------------------------\n",
        "plt.figure(figsize=(10,10)) #create 10 x 10 figure\n",
        "modelmap = flopy.plot.map.PlotMapView(model=m, layer=0) #use plotmapview to attach plot to model\n",
        "#grid = modelmap.plot_grid() #plot model grid\n",
        "contour_levels = np.linspace(head[0].min(),head[0].max(),11) #set contour levels for contouring head\n",
        "#contour_levels = np.linspace(400,650,26) #set contour levels for contouring head\n",
        "head_contours = modelmap.contour_array(head, levels=contour_levels) #create head contours\n",
        "plt.clabel(head_contours, inline=True,fontsize=12,fmt='%1.0f')\n",
        "#flows = modelmap.plot_discharge(frf[0], fff[0], head=head) #create discharge arrows\n",
        "rvr = modelmap.plot_bc(ftype='RIV')\n",
        "\n",
        "#display parameters\n",
        "plt.xlabel('Lx (ft)',fontsize = 14)\n",
        "plt.ylabel('Ly (ft)',fontsize = 14)\n",
        "plt.title('Steady-State Model, Flow(ft^3/d) and Head(ft) Results', fontsize = 15, fontweight = 'bold')"
      ],
      "execution_count": 0,
      "outputs": []
    }
  ]
}